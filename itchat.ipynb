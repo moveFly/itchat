{
 "cells": [
  {
   "cell_type": "code",
   "execution_count": null,
   "metadata": {
    "collapsed": false
   },
   "outputs": [
    {
     "name": "stdout",
     "output_type": "stream",
     "text": [
      "█\r"
     ]
    },
    {
     "name": "stderr",
     "output_type": "stream",
     "text": [
      "Getting uuid of QR code.\n"
     ]
    }
   ],
   "source": [
    "import itchat\n",
    "itchat.login()"
   ]
  },
  {
   "cell_type": "code",
   "execution_count": null,
   "metadata": {
    "collapsed": false
   },
   "outputs": [],
   "source": [
    "friends=itchat.get_friends(update=True)[0:]\n",
    "male = female = other = 0\n",
    "#friend[0]是自己，friend[1]以后是朋友信息\n",
    "friends[0]"
   ]
  },
  {
   "cell_type": "code",
   "execution_count": null,
   "metadata": {
    "collapsed": false
   },
   "outputs": [],
   "source": [
    "#初始化计数器\n",
    "male = female = other = 0\n",
    "#friends[0]是自己的信息，所以要从friends[1]开始\n",
    "for i in friends[1:]:\n",
    "    sex = i[\"Sex\"]\n",
    "    if sex == 1:\n",
    "        male += 1\n",
    "    elif sex == 2:\n",
    "        female += 1\n",
    "    else:\n",
    "        other +=1\n",
    "#计算朋友总数\n",
    "total = len(friends[1:])\n",
    "#打印出自己的好友性别比例\n",
    "print(\"男性好友： %.2f%%\" % (float(male)/total*100) + \"\\n\" )\n",
    "print(\"女性好友： %.2f%%\" % (float(female) / total * 100)+\"\\n\") \n",
    "print(\"不明性别好友： %.2f%%\" % (float(other) / total * 100))"
   ]
  },
  {
   "cell_type": "code",
   "execution_count": null,
   "metadata": {
    "collapsed": false
   },
   "outputs": [],
   "source": [
    "import numpy as np\n",
    "import matplotlib.pyplot as plt\n",
    "plt.rc('font', family='SimHei', size=15)\n",
    "\n",
    "sexList=[]\n",
    "sexList.append(male)\n",
    "sexList.append(female)\n",
    "sexList.append(other)\n",
    "\n",
    "name_list=[\"男\",\"女\",\"其他\"]\n",
    "plt.bar(range(len(sexList)),sexList,color='rgb',tick_label=name_list)\n",
    "plt.show()"
   ]
  },
  {
   "cell_type": "code",
   "execution_count": null,
   "metadata": {
    "collapsed": true
   },
   "outputs": [],
   "source": [
    "#定义一个函数，用来爬取各个变量\n",
    "def get_var(var):\n",
    "    variable=[]\n",
    "    for i in friends:\n",
    "        value=i[var]\n",
    "        variable.append(value)\n",
    "    return variable"
   ]
  },
  {
   "cell_type": "code",
   "execution_count": null,
   "metadata": {
    "collapsed": false
   },
   "outputs": [],
   "source": [
    "#调用函数得到各变量，并把数据存到csv文件中，保存到桌面\n",
    "NickName = get_var(\"NickName\")#名字\n",
    "Sex = get_var('Sex')#性别\n",
    "Province = get_var('Province')#省份\n",
    "City = get_var('City')#城市\n",
    "Signature = get_var('Signature')#个性签名\n",
    "#写入文件\n",
    "from pandas import DataFrame\n",
    "#data = {'NickName': NickName, 'Sex': Sex, 'Province': Province,\n",
    "#        'City': City, 'Signature': Signature}\n",
    "#frame = DataFrame(data)\n",
    "#frame.to_csv('data.csv', index=True)\n",
    "type(City)"
   ]
  },
  {
   "cell_type": "code",
   "execution_count": null,
   "metadata": {
    "collapsed": false
   },
   "outputs": [],
   "source": [
    "res={}\n",
    "for i in City:\n",
    "    res[i] = res.get(i, 0) + 1\n",
    "print([k for k in res.keys()])#种类\n",
    "print([v for v in res.values()])#个数\n",
    "numkey=[k for k in res.keys()]\n",
    "numvalues=[v for v in res.values()]"
   ]
  },
  {
   "cell_type": "code",
   "execution_count": null,
   "metadata": {
    "collapsed": false
   },
   "outputs": [],
   "source": [
    "plt.bar(range(len(numvalues)),numvalues,color='rgb')#,tick_label=numkey\n",
    "plt.show()"
   ]
  },
  {
   "cell_type": "code",
   "execution_count": null,
   "metadata": {
    "collapsed": false
   },
   "outputs": [],
   "source": [
    "import re\n",
    "import io\n",
    "import jieba\n",
    "siglist = []\n",
    "for i in friends:\n",
    "    signature = i[\"Signature\"].strip().replace(\"span\",\"\").replace(\"class\",\"\").replace(\"emoji\",\"\")\n",
    "    rep = re.compile(\"1f\\d+\\w*|[<>/=]\")\n",
    "    signature = rep.sub(\"\", signature)\n",
    "    siglist.append(signature)\n",
    "text = \"\".join(siglist)\n",
    "with io.open('text.txt', 'a', encoding='utf-8') as f:\n",
    "    wordlist = jieba.cut(text, cut_all=True)\n",
    "    word_space_split = \" \".join(wordlist)\n",
    "    f.write(word_space_split)\n",
    "    f.close()"
   ]
  },
  {
   "cell_type": "code",
   "execution_count": null,
   "metadata": {
    "collapsed": false
   },
   "outputs": [],
   "source": [
    "import jieba\n",
    "wordlist = jieba.cut(text, cut_all=True)\n",
    "word_space_split = \" \".join(wordlist)"
   ]
  },
  {
   "cell_type": "code",
   "execution_count": null,
   "metadata": {
    "collapsed": false
   },
   "outputs": [],
   "source": [
    "import matplotlib.pyplot as plt\n",
    "from wordcloud import WordCloud, ImageColorGenerator\n",
    "import numpy as np\n",
    "import PIL.Image as Image\n",
    "def draw_signature():\n",
    "    coloring = np.array(Image.open('./timg.jpg'))\n",
    "    my_wordcloud = WordCloud(background_color=\"white\", max_words=2000,\n",
    "                         mask=coloring, max_font_size=60, random_state=42, scale=2,\n",
    "                         font_path=\"C:\\Windows\\Fonts\\FZSTK.TTF\").generate(word_space_split)\n",
    "    image_colors = ImageColorGenerator(coloring)\n",
    "    #plt.imshow(my_wordcloud.recolor(color_func=image_colors))\n",
    "    plt.imshow(my_wordcloud)\n",
    "    plt.axis(\"off\")\n",
    "    plt.show()"
   ]
  },
  {
   "cell_type": "code",
   "execution_count": null,
   "metadata": {
    "collapsed": false
   },
   "outputs": [],
   "source": [
    "draw_signature()"
   ]
  },
  {
   "cell_type": "code",
   "execution_count": null,
   "metadata": {
    "collapsed": true
   },
   "outputs": [],
   "source": []
  }
 ],
 "metadata": {
  "anaconda-cloud": {},
  "kernelspec": {
   "display_name": "Python [conda root]",
   "language": "python",
   "name": "conda-root-py"
  },
  "language_info": {
   "codemirror_mode": {
    "name": "ipython",
    "version": 3
   },
   "file_extension": ".py",
   "mimetype": "text/x-python",
   "name": "python",
   "nbconvert_exporter": "python",
   "pygments_lexer": "ipython3",
   "version": "3.5.4"
  }
 },
 "nbformat": 4,
 "nbformat_minor": 1
}
